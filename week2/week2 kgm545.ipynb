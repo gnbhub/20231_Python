{
  "nbformat": 4,
  "nbformat_minor": 0,
  "metadata": {
    "colab": {
      "provenance": [],
      "authorship_tag": "ABX9TyMVWzuDgU7pclRqdEGB6WIU",
      "include_colab_link": true
    },
    "kernelspec": {
      "name": "python3",
      "display_name": "Python 3"
    },
    "language_info": {
      "name": "python"
    }
  },
  "cells": [
    {
      "cell_type": "markdown",
      "metadata": {
        "id": "view-in-github",
        "colab_type": "text"
      },
      "source": [
        "<a href=\"https://colab.research.google.com/github/gnbhub/20231_Python_Study/blob/master/week2/week2%20kgm545.ipynb\" target=\"_parent\"><img src=\"https://colab.research.google.com/assets/colab-badge.svg\" alt=\"Open In Colab\"/></a>"
      ]
    },
    {
      "cell_type": "code",
      "execution_count": 8,
      "metadata": {
        "colab": {
          "base_uri": "https://localhost:8080/"
        },
        "id": "6R1IZW8-59WB",
        "outputId": "bcbcfdfa-0399-4b0f-c1eb-42ecda2c3eaf"
      },
      "outputs": [
        {
          "output_type": "stream",
          "name": "stdout",
          "text": [
            "세자리 수를 입력하세요. ---> 123\n",
            "백의 자리수는 '1', 십의 자리수는 '2', 일의 자리수는 '3'입니다.\n"
          ]
        }
      ],
      "source": [
        "numinput = input(\"세자리 수를 입력하세요. ---> \")\n",
        "\n",
        "print(\"백의 자리수는 '%c', 십의 자리수는 '%c', 일의 자리수는 '%c'입니다.\" %(numinput[0], numinput[1], numinput[2]))"
      ]
    },
    {
      "cell_type": "code",
      "source": [
        "name = input(\"사용자의 이름이 어떻게 되나요? ---> \")\n",
        "age = int(input(\"사용자의 나이가 어떻게 되나요? ---> \"))\n",
        "\n",
        "print(\"'%s님의 10년 후 나이는 %d살 입니다.'\" %(name, age+10))"
      ],
      "metadata": {
        "colab": {
          "base_uri": "https://localhost:8080/"
        },
        "id": "Bxcc3z2N6bx_",
        "outputId": "d2900843-842b-43db-a516-f61a00edb295"
      },
      "execution_count": 7,
      "outputs": [
        {
          "output_type": "stream",
          "name": "stdout",
          "text": [
            "사용자의 이름이 어떻게 되나요? ---> 권강민\n",
            "사용자의 나이가 어떻게 되나요? ---> 25\n",
            "'권강민님의 10년 후 나이는 35살 입니다.'\n"
          ]
        }
      ]
    },
    {
      "cell_type": "code",
      "source": [
        "number = input(\"8자리 수를 입력하시오.  ---> \")\n",
        "print(f\"거꾸로 출력한 결과는 {number[::-1]} 입니다.\")\n"
      ],
      "metadata": {
        "colab": {
          "base_uri": "https://localhost:8080/"
        },
        "id": "A83cNWL66b2x",
        "outputId": "82fb3280-847e-4209-a07f-49e9f075a38c"
      },
      "execution_count": 5,
      "outputs": [
        {
          "output_type": "stream",
          "name": "stdout",
          "text": [
            "8자리 수를 입력하시오.  ---> 12341234\n",
            "거꾸로 출력한 결과는 43214321 입니다.\n"
          ]
        }
      ]
    }
  ]
}
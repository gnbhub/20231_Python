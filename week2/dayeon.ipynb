{
  "nbformat": 4,
  "nbformat_minor": 0,
  "metadata": {
    "colab": {
      "provenance": [],
      "authorship_tag": "ABX9TyMBFwjKXU/HlSz+UXhfFIaG",
      "include_colab_link": true
    },
    "kernelspec": {
      "name": "python3",
      "display_name": "Python 3"
    },
    "language_info": {
      "name": "python"
    }
  },
  "cells": [
    {
      "cell_type": "markdown",
      "metadata": {
        "id": "view-in-github",
        "colab_type": "text"
      },
      "source": [
        "<a href=\"https://colab.research.google.com/github/gnbhub/20231_Python_Study/blob/master/week2/dayeon.ipynb\" target=\"_parent\"><img src=\"https://colab.research.google.com/assets/colab-badge.svg\" alt=\"Open In Colab\"/></a>"
      ]
    },
    {
      "cell_type": "code",
      "execution_count": 4,
      "metadata": {
        "colab": {
          "base_uri": "https://localhost:8080/"
        },
        "id": "j4bMZXzBBIPk",
        "outputId": "e2102595-c592-4252-b76a-a13c65ae4e01"
      },
      "outputs": [
        {
          "output_type": "stream",
          "name": "stdout",
          "text": [
            "세 자리 수를 입력시오. ---> 384\n",
            "백의 자리 수는 '3', 십의 자리 수는 '8', 일의 자리 수는 '4'입니다.\n"
          ]
        }
      ],
      "source": [
        "num = input(\"세 자리 수를 입력시오. ---> \")\n",
        "\n",
        "print(\"백의 자리 수는 '%s', 십의 자리 수는 '%s', 일의 자리 수는 '%s'입니다.\" %(num[0], num[1], num[2]))"
      ]
    },
    {
      "cell_type": "code",
      "source": [
        "name = input(\"사용자의 이름이 어떻게 되나요? ---> \")\n",
        "age = int(input(\"사용자의 나이가 어떻게 되나요? ---> \"))\n",
        "\n",
        "print(\"'%s의 10년 후 나이는 %d살입니다.'\" %(name, age+10))"
      ],
      "metadata": {
        "colab": {
          "base_uri": "https://localhost:8080/"
        },
        "id": "gGfBz9WRI5eU",
        "outputId": "0af1956d-3cd8-4f70-a12d-d6299c576244"
      },
      "execution_count": 7,
      "outputs": [
        {
          "output_type": "stream",
          "name": "stdout",
          "text": [
            "사용자의 이름이 어떻게 되나요? ---> 홍길동\n",
            "사용자의 나이가 어떻게 되나요? ---> 22\n",
            "'홍길동의 10년 후 나이는 32살입니다.'\n"
          ]
        }
      ]
    },
    {
      "cell_type": "code",
      "source": [
        "num=input(\"8자리 수를 입력하시오. ---> \")\n",
        "new_num = \"\"\n",
        "\n",
        "for i in range(1, len(num)+1):\n",
        "  new_num += num[-i]\n",
        "\n",
        "print(\"'거꾸로 출력한 결과는 %s 입니다.'\" %new_num)"
      ],
      "metadata": {
        "colab": {
          "base_uri": "https://localhost:8080/"
        },
        "id": "9azZIvadJYvR",
        "outputId": "6fec7a28-72b1-41b3-d3c6-adc32358b01a"
      },
      "execution_count": 9,
      "outputs": [
        {
          "output_type": "stream",
          "name": "stdout",
          "text": [
            "8자리 수를 입력하시오. ---> 12345678\n",
            "'거꾸로 출력한 결과는 87654321 입니다.'\n"
          ]
        }
      ]
    }
  ]
}
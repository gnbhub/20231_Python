{
  "nbformat": 4,
  "nbformat_minor": 0,
  "metadata": {
    "colab": {
      "provenance": [],
      "authorship_tag": "ABX9TyN4JxPWU7Z+2pA0ObrBvbwv",
      "include_colab_link": true
    },
    "kernelspec": {
      "name": "python3",
      "display_name": "Python 3"
    },
    "language_info": {
      "name": "python"
    }
  },
  "cells": [
    {
      "cell_type": "markdown",
      "metadata": {
        "id": "view-in-github",
        "colab_type": "text"
      },
      "source": [
        "<a href=\"https://colab.research.google.com/github/gnbhub/20231_Python_Study/blob/master/week2/week2_janghun.ipynb\" target=\"_parent\"><img src=\"https://colab.research.google.com/assets/colab-badge.svg\" alt=\"Open In Colab\"/></a>"
      ]
    },
    {
      "cell_type": "code",
      "execution_count": 9,
      "metadata": {
        "colab": {
          "base_uri": "https://localhost:8080/"
        },
        "id": "dt6mNC7Ar0uL",
        "outputId": "9a94590d-d6fa-42a7-aa43-3382ff7d783d"
      },
      "outputs": [
        {
          "output_type": "stream",
          "name": "stdout",
          "text": [
            "세자리 수를 입력하시오.  ---> 384\n",
            "백의 자리수는 '3', 십의 자리수는 '8', 일의 자리수는 '4'입니다.\n"
          ]
        }
      ],
      "source": [
        "# 1. 사용자로부터 세자리 수를 입력받고 각 자리수를 출력해주는 프로그램 만들기.\n",
        "number = int(input(\"세자리 수를 입력하시오.  ---> \"))\n",
        "num1, num2, num3 = number // 100, number % 100 // 10, number % 10\n",
        "print(f\"백의 자리수는 '{num1}', 십의 자리수는 '{num2}', 일의 자리수는 '{num3}'입니다.\")"
      ]
    },
    {
      "cell_type": "code",
      "source": [
        "# 2. 사용자에게 이름과 나이를 입력받은 후, 10년 후 사용자의 나이를 출력해주는 프로그램 만들기.\n",
        "name = input(\"사용자의 이름이 어떻게 되나요? ---> \")\n",
        "age = int(input(\"사용자의 나이가 어떻게 되나요? ---> \")[:-1])\n",
        "print(f\"{name}님의 10년후 나이는 {age+10}살입니다.\")"
      ],
      "metadata": {
        "colab": {
          "base_uri": "https://localhost:8080/"
        },
        "id": "ee3BbYSysxGs",
        "outputId": "3fe7890a-bcfb-4488-fcf6-cd87f1eb8a60"
      },
      "execution_count": 7,
      "outputs": [
        {
          "output_type": "stream",
          "name": "stdout",
          "text": [
            "사용자의 이름이 어떻게 되나요? ---> 홍길동\n",
            "사용자의 나이가 어떻게 되나요? ---> 22살\n",
            "홍길동님의 10년후 나이는 32살입니다.\n"
          ]
        }
      ]
    },
    {
      "cell_type": "code",
      "source": [
        "# 3. 사용자로부터 입력받은 8자리 수 거꾸로 출력하기.\n",
        "number = input(\"8자리 수를 입력하시오.  ---> \")\n",
        "print(f\"거꾸로 출력한 결과는 {number[::-1]} 입니다.\")"
      ],
      "metadata": {
        "colab": {
          "base_uri": "https://localhost:8080/"
        },
        "id": "6qGnDkJptly6",
        "outputId": "eceb3979-0cea-4460-c987-daf6f933aec7"
      },
      "execution_count": 11,
      "outputs": [
        {
          "output_type": "stream",
          "name": "stdout",
          "text": [
            "8자리 수를 입력하시오.  ---> 12345678\n",
            "거꾸로 출력한 결과는 87654321 입니다.\n"
          ]
        }
      ]
    }
  ]
}
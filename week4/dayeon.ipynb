{
  "nbformat": 4,
  "nbformat_minor": 0,
  "metadata": {
    "colab": {
      "provenance": [],
      "authorship_tag": "ABX9TyNvPD8Vn8tr8ZU0dp2JGSLi",
      "include_colab_link": true
    },
    "kernelspec": {
      "name": "python3",
      "display_name": "Python 3"
    },
    "language_info": {
      "name": "python"
    }
  },
  "cells": [
    {
      "cell_type": "markdown",
      "metadata": {
        "id": "view-in-github",
        "colab_type": "text"
      },
      "source": [
        "<a href=\"https://colab.research.google.com/github/gnbhub/20231_Python_Study/blob/master/week4/dayeon.ipynb\" target=\"_parent\"><img src=\"https://colab.research.google.com/assets/colab-badge.svg\" alt=\"Open In Colab\"/></a>"
      ]
    },
    {
      "cell_type": "code",
      "source": [
        "# 1\n",
        "l1 = list(map(int, input(\"10가지의 두 자리 수 입력: \").split()))\n",
        "l1.reverse()\n",
        "print(l1)"
      ],
      "metadata": {
        "colab": {
          "base_uri": "https://localhost:8080/"
        },
        "id": "w7u97Ik8ygSE",
        "outputId": "04b28f14-c929-42a0-cba9-9ecf43d525e3"
      },
      "execution_count": null,
      "outputs": [
        {
          "output_type": "stream",
          "name": "stdout",
          "text": [
            "10가지의 두 자리 수 입력: 10 15 96 36 45 28 71 20 18 61\n",
            "[61, 18, 20, 71, 28, 45, 36, 96, 15, 10]\n"
          ]
        }
      ]
    },
    {
      "cell_type": "code",
      "source": [
        "# 2\n",
        "glist = [-2, 3, 7, 10, -13, -6, 8, -5, 17, -10, 5, -2]\n",
        "\n",
        "max_value = 0\n",
        "total = 0\n",
        "num = list()\n",
        "\n",
        "for i in range(0, len(glist)):\n",
        "    total += glist[i]\n",
        "    if max_value < total:\n",
        "        max_value = total\n",
        "        num.append(i)\n",
        "print(\"%d번째 숫자인 %d까지 합한 결과 %d가 최대값입니다.\" %(num[-1]+1, glist[num.pop()], max_value))"
      ],
      "metadata": {
        "id": "4zIKKH_UysEX",
        "colab": {
          "base_uri": "https://localhost:8080/"
        },
        "outputId": "316b65bb-1132-4744-ffca-b4925f7e0aa5"
      },
      "execution_count": 11,
      "outputs": [
        {
          "output_type": "stream",
          "name": "stdout",
          "text": [
            "9번째 숫자인 17까지 합한 결과 19가 최대값입니다.\n"
          ]
        }
      ]
    },
    {
      "cell_type": "code",
      "source": [
        "# 3\n",
        "l3 = list(map(int, input(\"7개의 임의의 수 입력: \").split()))\n",
        "if len(l3) != 7:\n",
        "    print(\"다시 입력하세요\")\n",
        "else:\n",
        "    l3.sort()\n",
        "    print(l3[-2])"
      ],
      "metadata": {
        "colab": {
          "base_uri": "https://localhost:8080/"
        },
        "id": "zFt5rvXt0XI6",
        "outputId": "d1a7375c-a1b6-4ec7-c342-8424b72331e4"
      },
      "execution_count": null,
      "outputs": [
        {
          "output_type": "stream",
          "name": "stdout",
          "text": [
            "7개의 임의의 수 입력: 16 7 99 152 36 76 86\n",
            "99\n"
          ]
        }
      ]
    },
    {
      "cell_type": "code",
      "source": [
        "# 4\n",
        "l4_1 = [1, 571, 7, 11, 20005, 16]\n",
        "l4_2 = [ 134, 5, 23, 1090]\n",
        "l4_3 = l4_1 + l4_2\n",
        "l4_3.sort(reverse=True)\n",
        "print(l4_3)"
      ],
      "metadata": {
        "colab": {
          "base_uri": "https://localhost:8080/"
        },
        "id": "IIYCGIN_1C65",
        "outputId": "00c3e5c8-e412-48cd-9743-56edadfec891"
      },
      "execution_count": null,
      "outputs": [
        {
          "output_type": "stream",
          "name": "stdout",
          "text": [
            "[20005, 1090, 571, 134, 23, 16, 11, 7, 5, 1]\n"
          ]
        }
      ]
    },
    {
      "cell_type": "code",
      "source": [
        "# 5\n",
        "import numpy as np\n",
        "given_list = [1, 2, 3, 2, 2, 3, 1, 4, 2, 5, 2, 3, 3]\n",
        "a = np.unique(given_list)\n",
        "b = list()\n",
        "\n",
        "for i in range(0, len(a)):\n",
        "    b.append(given_list.count(a[i]))\n",
        "\n",
        "print(b.index(max(b))+1)"
      ],
      "metadata": {
        "id": "J6S7Tyny2H5J",
        "colab": {
          "base_uri": "https://localhost:8080/"
        },
        "outputId": "2dbeb888-37e3-46d3-aa5d-ead2f4180f1b"
      },
      "execution_count": 9,
      "outputs": [
        {
          "output_type": "stream",
          "name": "stdout",
          "text": [
            "2\n"
          ]
        }
      ]
    }
  ]
}
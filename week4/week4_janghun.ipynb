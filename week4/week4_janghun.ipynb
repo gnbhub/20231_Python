{
  "nbformat": 4,
  "nbformat_minor": 0,
  "metadata": {
    "colab": {
      "provenance": [],
      "include_colab_link": true
    },
    "kernelspec": {
      "name": "python3",
      "display_name": "Python 3"
    },
    "language_info": {
      "name": "python"
    }
  },
  "cells": [
    {
      "cell_type": "markdown",
      "metadata": {
        "id": "view-in-github",
        "colab_type": "text"
      },
      "source": [
        "<a href=\"https://colab.research.google.com/github/gnbhub/20231_Python_Study/blob/master/week4/week4_janghun.ipynb\" target=\"_parent\"><img src=\"https://colab.research.google.com/assets/colab-badge.svg\" alt=\"Open In Colab\"/></a>"
      ]
    },
    {
      "cell_type": "code",
      "execution_count": 1,
      "metadata": {
        "colab": {
          "base_uri": "https://localhost:8080/"
        },
        "id": "QIIIyFGTaIE0",
        "outputId": "103ed564-9bbe-4e91-88a9-997f57a7719a"
      },
      "outputs": [
        {
          "output_type": "stream",
          "name": "stdout",
          "text": [
            "두 자리 수 10개 입력 : 10 15 11 16 12 17 13 18 14 19\n",
            "[19, 14, 18, 13, 17, 12, 16, 11, 15, 10]\n"
          ]
        }
      ],
      "source": [
        "#1.\n",
        "l = []\n",
        "l.extend(list(map(int,input('두 자리 수 10개 입력 : ').split())))\n",
        "print(l[::-1])"
      ]
    },
    {
      "cell_type": "code",
      "source": [
        "#2.\n",
        "l = [-2, 3, 7, 10, -13, -6, 8, -5, 17, -10, 5, -2]\n",
        "sum = []\n",
        "for i in range(len(l)):\n",
        "  s = 0\n",
        "  for j in range(i):\n",
        "    s += l[j]\n",
        "  sum.append(l[i]+s)\n",
        "print(f'{sum.index(sorted(sum)[-1])+1}번째 숫자인 {l[sum.index(sorted(sum)[-1])]}까지 합한 결과 {sorted(sum)[-1]}이(가) 최대값입니다.')"
      ],
      "metadata": {
        "colab": {
          "base_uri": "https://localhost:8080/"
        },
        "id": "d-_vqE3ibFu0",
        "outputId": "f86c7c9c-f166-4175-b4c0-f74324034135"
      },
      "execution_count": null,
      "outputs": [
        {
          "output_type": "stream",
          "name": "stdout",
          "text": [
            "9번째 숫자인 17까지 합한 결과 19이(가) 최대값입니다.\n"
          ]
        }
      ]
    },
    {
      "cell_type": "code",
      "source": [
        "#3.\n",
        "l = []\n",
        "l.extend(list(map(int,input('숫자 7개 입력 : ').split())))\n",
        "print(sorted(l)[-2])"
      ],
      "metadata": {
        "colab": {
          "base_uri": "https://localhost:8080/"
        },
        "id": "CSripyUWcEp9",
        "outputId": "b4e9ccaa-4dfe-448c-c887-0a2b02640f27"
      },
      "execution_count": null,
      "outputs": [
        {
          "output_type": "stream",
          "name": "stdout",
          "text": [
            "숫자 7개 입력 : 1 5 2 6 3 7 4\n",
            "6\n"
          ]
        }
      ]
    },
    {
      "cell_type": "code",
      "source": [
        "#4.\n",
        "l1 = [1, 571, 7, 11, 20005, 16]\n",
        "l2 = [134, 5, 23, 1090]\n",
        "l = sorted(l1 + l2,reverse=True)\n",
        "print(l)"
      ],
      "metadata": {
        "colab": {
          "base_uri": "https://localhost:8080/"
        },
        "id": "jfwfU2eQcFie",
        "outputId": "06ce7bc3-1f86-48bb-b298-5ce67e4b99cb"
      },
      "execution_count": null,
      "outputs": [
        {
          "output_type": "stream",
          "name": "stdout",
          "text": [
            "[20005, 1090, 571, 134, 23, 16, 11, 7, 5, 1]\n"
          ]
        }
      ]
    },
    {
      "cell_type": "code",
      "source": [
        "#5.\n",
        "given_list = [1, 2, 3, 2, 2, 3, 1, 4, 2, 5, 2, 3, 3]\n",
        "count_list = [given_list.count(given_list[i]) for i in range(len(given_list))]\n",
        "print(f'가장 많이 등장하는 요소 : {given_list[count_list.index(sorted(count_list)[-1])]}, 등장 횟수 : {sorted(count_list)[-1]}')"
      ],
      "metadata": {
        "colab": {
          "base_uri": "https://localhost:8080/"
        },
        "id": "rPWEjnLqcF8u",
        "outputId": "6327a21f-f31c-4c8a-84a7-fe148a5d71ed"
      },
      "execution_count": null,
      "outputs": [
        {
          "output_type": "stream",
          "name": "stdout",
          "text": [
            "가장 많이 등장하는 요소 : 2, 등장 횟수 : 5\n"
          ]
        }
      ]
    }
  ]
}
{
  "nbformat": 4,
  "nbformat_minor": 0,
  "metadata": {
    "colab": {
      "provenance": [],
      "authorship_tag": "ABX9TyP99eArhrqh602Q3DaDXrzJ",
      "include_colab_link": true
    },
    "kernelspec": {
      "name": "python3",
      "display_name": "Python 3"
    },
    "language_info": {
      "name": "python"
    }
  },
  "cells": [
    {
      "cell_type": "markdown",
      "metadata": {
        "id": "view-in-github",
        "colab_type": "text"
      },
      "source": [
        "<a href=\"https://colab.research.google.com/github/gnbhub/20231_Python_Study/blob/master/week6/week6_janghun.ipynb\" target=\"_parent\"><img src=\"https://colab.research.google.com/assets/colab-badge.svg\" alt=\"Open In Colab\"/></a>"
      ]
    },
    {
      "cell_type": "code",
      "execution_count": 39,
      "metadata": {
        "id": "2z5QufiNZJZy",
        "colab": {
          "base_uri": "https://localhost:8080/"
        },
        "outputId": "58e6fa9d-ac0b-4ad4-bd93-b547bf145dc5"
      },
      "outputs": [
        {
          "output_type": "stream",
          "name": "stdout",
          "text": [
            "임의의 수 입력 : 5\n",
            "5은(는) 소수입니다.\n"
          ]
        }
      ],
      "source": [
        "#1.\n",
        "def isPrime():\n",
        "  p = True\n",
        "  n = int(input('임의의 수 입력 : '))\n",
        "  for i in range(2, int((n)**0.5)+1):\n",
        "    if n % i == 0:\n",
        "      p = False\n",
        "      break\n",
        "  print(f'{n}은(는) {\"소수\" if p == True else \"합성수\"}입니다.')\n",
        "isPrime()"
      ]
    },
    {
      "cell_type": "code",
      "source": [
        "#2.\n",
        "def inch2cm(inch):\n",
        "  return inch*2.54\n",
        "for i in range(1,11):\n",
        "  print(f'{i}inch : {inch2cm(i)}cm')"
      ],
      "metadata": {
        "colab": {
          "base_uri": "https://localhost:8080/"
        },
        "id": "BWpl-G3baHLL",
        "outputId": "c25ab4a0-0f2d-40e4-b9c1-86c5ef5f56ec"
      },
      "execution_count": null,
      "outputs": [
        {
          "output_type": "stream",
          "name": "stdout",
          "text": [
            "1inch : 2.54cm\n",
            "2inch : 5.08cm\n",
            "3inch : 7.62cm\n",
            "4inch : 10.16cm\n",
            "5inch : 12.7cm\n",
            "6inch : 15.24cm\n",
            "7inch : 17.78cm\n",
            "8inch : 20.32cm\n",
            "9inch : 22.86cm\n",
            "10inch : 25.4cm\n"
          ]
        }
      ]
    },
    {
      "cell_type": "code",
      "source": [
        "#3.\n",
        "def sum_range(n1, n2):\n",
        "  return sum(range(n1, n2+1))\n",
        "print(f'{sum_range(10, 20):05d}')\n",
        "print(f'{sum_range(40, 100):05d}')"
      ],
      "metadata": {
        "colab": {
          "base_uri": "https://localhost:8080/"
        },
        "id": "4HwHtBwKav9M",
        "outputId": "d3db8eae-d2e3-4584-9b3e-53adbf384e84"
      },
      "execution_count": null,
      "outputs": [
        {
          "output_type": "stream",
          "name": "stdout",
          "text": [
            "00165\n",
            "04270\n"
          ]
        }
      ]
    },
    {
      "cell_type": "code",
      "source": [
        "#4.\n",
        "a = 1\n",
        "b = 2\n",
        "def print_sum():\n",
        "  global a, b\n",
        "  print(a + b)\n",
        "print_sum()"
      ],
      "metadata": {
        "colab": {
          "base_uri": "https://localhost:8080/"
        },
        "id": "K-NeFSTZbqMU",
        "outputId": "b748c693-e64e-457e-d12e-afa504cccdde"
      },
      "execution_count": null,
      "outputs": [
        {
          "output_type": "stream",
          "name": "stdout",
          "text": [
            "3\n"
          ]
        }
      ]
    },
    {
      "cell_type": "code",
      "source": [
        "#5.\n",
        "def factorial(k):\n",
        "  fact = 1\n",
        "  for i in range(0, k+1):\n",
        "    fact *= i if i != 0 else 1\n",
        "  return fact\n",
        "\n",
        "def euler(n):\n",
        "  e = 0\n",
        "  for i in range(n+1):\n",
        "    e += 1 / factorial(i)\n",
        "  return e\n",
        "\n",
        "print(f'{euler(5):.5f}')\n",
        "print(f'{euler(20):.5f}')"
      ],
      "metadata": {
        "colab": {
          "base_uri": "https://localhost:8080/"
        },
        "id": "5UECk3SfdCc6",
        "outputId": "2b582999-04b1-43e5-f11d-af7d34d0b467"
      },
      "execution_count": 38,
      "outputs": [
        {
          "output_type": "stream",
          "name": "stdout",
          "text": [
            "2.71667\n",
            "2.71828\n"
          ]
        }
      ]
    }
  ]
}
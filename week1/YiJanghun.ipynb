{
  "nbformat": 4,
  "nbformat_minor": 0,
  "metadata": {
    "colab": {
      "provenance": [],
      "include_colab_link": true
    },
    "kernelspec": {
      "name": "python3",
      "display_name": "Python 3"
    },
    "language_info": {
      "name": "python"
    }
  },
  "cells": [
    {
      "cell_type": "markdown",
      "metadata": {
        "id": "view-in-github",
        "colab_type": "text"
      },
      "source": [
        "<a href=\"https://colab.research.google.com/github/gnbhub/20231_Python_Study/blob/master/week1/YiJanghun.ipynb\" target=\"_parent\"><img src=\"https://colab.research.google.com/assets/colab-badge.svg\" alt=\"Open In Colab\"/></a>"
      ]
    },
    {
      "cell_type": "code",
      "execution_count": 1,
      "metadata": {
        "colab": {
          "base_uri": "https://localhost:8080/"
        },
        "id": "oZKo9dR1dQcp",
        "outputId": "b710b804-9ff4-443c-9d7a-669573e8d62e"
      },
      "outputs": [
        {
          "output_type": "stream",
          "name": "stdout",
          "text": [
            "반지름 : 2.2\n",
            "원 넓이 : 15.21\n",
            "원 둘레 : 13.82\n"
          ]
        }
      ],
      "source": [
        "#1. 예제 4-11 : 원 넓이와 둘레 구하기\n",
        "radius = float(input(\"반지름 : \"))\n",
        "pi = 3.141592\n",
        "print(f\"원 넓이 : {pi * radius ** 2:.2f}\\n원 둘레 : {2 * pi * radius:.2f}\")"
      ]
    },
    {
      "cell_type": "code",
      "source": [
        "#2. 예제 5장 28쪽, 5-11 : eval의 사용\n",
        "number = eval(input(\"수를 입력 : \"))\n",
        "print(number)\n",
        "\n",
        "print(f\"결과 : {eval(input('일반 수식을 그대로 입력 : ')):.2f}\")"
      ],
      "metadata": {
        "id": "CzuIq84A0xRi",
        "outputId": "87b20210-85da-43da-d57d-66495ecc7452",
        "colab": {
          "base_uri": "https://localhost:8080/"
        }
      },
      "execution_count": 6,
      "outputs": [
        {
          "output_type": "stream",
          "name": "stdout",
          "text": [
            "수를 입력 : 100\n",
            "100\n",
            "일반 수식을 그대로 입력 : (2+3)*(13/3)\n",
            "결과 : 21.67\n"
          ]
        }
      ]
    },
    {
      "cell_type": "code",
      "source": [
        "#3. 현금의 최소 구성 찾기\n",
        "money = int(input(\"금액을 입력하세요 : \"))\n",
        "\n",
        "W1000 = money // 1000\n",
        "W500 = money % 1000 // 500\n",
        "W100 = money % 500 // 100\n",
        "W50 = money % 100 // 50\n",
        "W10 = money % 50 // 10\n",
        "W1 = money % 10\n",
        "\n",
        "print(f\"{money} won = {W1000}*1,000 won + {W500}*500 won + {W100}*100 won + {W50}*50 won + {W10}*10 won + {W1}*1 won, total {W1000+W500+W100+W50+W10+W1} is the minimum\")"
      ],
      "metadata": {
        "id": "gBmUWfyL0xfb",
        "outputId": "f5d04876-9bd6-4a0c-bdd3-4d071169aa84",
        "colab": {
          "base_uri": "https://localhost:8080/"
        }
      },
      "execution_count": 7,
      "outputs": [
        {
          "output_type": "stream",
          "name": "stdout",
          "text": [
            "금액을 입력하세요 : 2050\n",
            "2050 won = 2*1,000 won + 0*500 won + 0*100 won + 1*50 won + 0*10 won + 0*1 won, total 3 is the minimum\n"
          ]
        }
      ]
    }
  ]
}
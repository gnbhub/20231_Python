{
  "nbformat": 4,
  "nbformat_minor": 0,
  "metadata": {
    "colab": {
      "provenance": [],
      "authorship_tag": "ABX9TyNnu4Cy7BTa88YTaFnNZFrZ",
      "include_colab_link": true
    },
    "kernelspec": {
      "name": "python3",
      "display_name": "Python 3"
    },
    "language_info": {
      "name": "python"
    }
  },
  "cells": [
    {
      "cell_type": "markdown",
      "metadata": {
        "id": "view-in-github",
        "colab_type": "text"
      },
      "source": [
        "<a href=\"https://colab.research.google.com/github/gnbhub/20231_Python_Study/blob/master/week1/dayeon/hw1.ipynb\" target=\"_parent\"><img src=\"https://colab.research.google.com/assets/colab-badge.svg\" alt=\"Open In Colab\"/></a>"
      ]
    },
    {
      "cell_type": "markdown",
      "source": [
        "예제 4-11 : 원 넓이와 둘레 구하기"
      ],
      "metadata": {
        "id": "UIDEIVzl6FbC"
      }
    },
    {
      "cell_type": "code",
      "execution_count": 8,
      "metadata": {
        "colab": {
          "base_uri": "https://localhost:8080/"
        },
        "id": "EbI_FYg86D11",
        "outputId": "3b7cf199-c7f7-4feb-9833-f41cb220ef48"
      },
      "outputs": [
        {
          "output_type": "stream",
          "name": "stdout",
          "text": [
            "반지름 : 2.2\n",
            "원 넓이 : 15.21\n",
            "원 둘레 : 13.82\n"
          ]
        }
      ],
      "source": [
        "radius = float(input(\"반지름 : \"))\n",
        "pi = 3.141592\n",
        "\n",
        "area = pi*(radius**2)\n",
        "circum = 2*pi*radius\n",
        "\n",
        "print(\"원 넓이 : {:.2f}\".format(area))\n",
        "print(\"원 둘레 : {:.2f}\".format(circum))"
      ]
    },
    {
      "cell_type": "markdown",
      "source": [
        "예제 5장 28쪽, 5-11 : eval의 사용"
      ],
      "metadata": {
        "id": "6zw-OylU8jwD"
      }
    },
    {
      "cell_type": "code",
      "source": [
        "num1 = eval(input(\"수를 입력 : \"))\n",
        "print(\"결과 : {:.2f}\".format(num1))\n",
        "num2 = eval(input(\"일반 수식을 그대로 입력 : \"))\n",
        "print(\"결과 : {:.2f}\".format(num))"
      ],
      "metadata": {
        "colab": {
          "base_uri": "https://localhost:8080/"
        },
        "id": "uZxvoPjQ8jMK",
        "outputId": "66be92e5-5239-4405-d5be-206904bbc7c3"
      },
      "execution_count": 10,
      "outputs": [
        {
          "output_type": "stream",
          "name": "stdout",
          "text": [
            "수를 입력 : 3.14\n",
            "결과 : 3.14\n",
            "일반 수식을 그대로 입력 : (2+3)*(13/3)\n",
            "결과 : 21.67\n"
          ]
        }
      ]
    },
    {
      "cell_type": "markdown",
      "source": [
        "현금의 최소 구성 찾기"
      ],
      "metadata": {
        "id": "49hfsQUI_M0k"
      }
    },
    {
      "cell_type": "code",
      "source": [
        "money = int(input(\"금액을 입력하세요(0이상 10,000원 미만) : \"))\n",
        "\n",
        "thousand = money // 1000\n",
        "five_hun = money % 1000 // 500\n",
        "hundred = money % 500 // 100\n",
        "fifty = money % 100 // 50\n",
        "ten = money % 50 // 10\n",
        "one = money % 10 // 1\n",
        "\n",
        "sum = thousand + five_hun + hundred + fifty + ten + one\n",
        "\n",
        "print(\"{}won = {}*1000won + {}*500won + {}*100won + {}*50won + {}*10won + {}*1won, total {} is minimum \".format(money, thousand, five_hun, hundred, fifty, ten, one, sum))"
      ],
      "metadata": {
        "id": "00J8K-7PDpHz"
      },
      "execution_count": null,
      "outputs": []
    }
  ]
}
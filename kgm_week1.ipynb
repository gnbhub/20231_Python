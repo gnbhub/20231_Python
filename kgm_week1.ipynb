{
  "nbformat": 4,
  "nbformat_minor": 0,
  "metadata": {
    "colab": {
      "provenance": [],
      "authorship_tag": "ABX9TyOtwwS5A2FseFlJ2+RKiviK",
      "include_colab_link": true
    },
    "kernelspec": {
      "name": "python3",
      "display_name": "Python 3"
    },
    "language_info": {
      "name": "python"
    }
  },
  "cells": [
    {
      "cell_type": "markdown",
      "metadata": {
        "id": "view-in-github",
        "colab_type": "text"
      },
      "source": [
        "<a href=\"https://colab.research.google.com/github/gnbhub/20231_Python_Study/blob/master/kgm_week1.ipynb\" target=\"_parent\"><img src=\"https://colab.research.google.com/assets/colab-badge.svg\" alt=\"Open In Colab\"/></a>"
      ]
    },
    {
      "cell_type": "code",
      "execution_count": 2,
      "metadata": {
        "colab": {
          "base_uri": "https://localhost:8080/"
        },
        "id": "qTAveivkIRvw",
        "outputId": "5f785833-78a5-4e1f-85b9-4c194fccdac1"
      },
      "outputs": [
        {
          "output_type": "stream",
          "name": "stdout",
          "text": [
            "반지름 : 5.2\n",
            "원 면적 : 84.95\n",
            "원 둘레 : 32.67\n"
          ]
        }
      ],
      "source": [
        "radius = float(input(\"반지름 : \"))\n",
        "pi = 3.141592\n",
        "\n",
        "area = pi*(radius ** 2)\n",
        "circum = 2*pi*radius\n",
        "\n",
        "print(\"원 면적 :\", round(area,2))\n",
        "print(\"원 둘레 :\", round(circum,2))\n"
      ]
    },
    {
      "cell_type": "code",
      "source": [
        "number = eval(input(\"수를 입력 : \"))\n",
        "print(\"결과 : %.2f\" %number)\n",
        "\n",
        "expression = input(\"수를 입력 : \")\n",
        "answer = eval(expression)\n",
        "print(\"결과 : %.2f\" %answer)"
      ],
      "metadata": {
        "colab": {
          "base_uri": "https://localhost:8080/"
        },
        "id": "tHXQqOkkJMKW",
        "outputId": "7fb3713e-b785-4864-de45-d5422b665ce6"
      },
      "execution_count": 9,
      "outputs": [
        {
          "output_type": "stream",
          "name": "stdout",
          "text": [
            "수를 입력 : 6\n",
            "결과 : 6.00\n",
            "수를 입력 : 8\n",
            "결과 : 8.00\n"
          ]
        }
      ]
    },
    {
      "cell_type": "code",
      "source": [
        "money = int(input(\"금액을 입력하세요(0이상 10,000원 미만) : \"))\n",
        "\n",
        "thousand = money // 1000\n",
        "five_hun = money % 1000 // 500\n",
        "hundred = money % 500 // 100\n",
        "fifty = money % 100 // 50\n",
        "ten = money % 50 // 10\n",
        "one = money % 10 // 1\n",
        "\n",
        "sum = thousand + five_hun + hundred + fifty + ten + one\n",
        "\n",
        "print(\"{}won = {}*1000won + {}*500won + {}*100won + {}*50won + {}*10won + {}*1won, total {} is minimum \".format(money, thousand, five_hun, hundred, fifty, ten, one, sum))"
      ],
      "metadata": {
        "colab": {
          "base_uri": "https://localhost:8080/"
        },
        "id": "FCbdwvAaPb54",
        "outputId": "465c4917-f089-45f6-98dd-739a0114da53"
      },
      "execution_count": 10,
      "outputs": [
        {
          "output_type": "stream",
          "name": "stdout",
          "text": [
            "금액을 입력하세요(0이상 10,000원 미만) : 9800\n",
            "9800won = 9*1000won + 1*500won + 3*100won + 0*50won + 0*10won + 0*1won, total 13 is minimum \n"
          ]
        }
      ]
    }
  ]
}
{
  "nbformat": 4,
  "nbformat_minor": 0,
  "metadata": {
    "colab": {
      "provenance": [],
      "authorship_tag": "ABX9TyNj2/yG9vpycON6xLr0MofK",
      "include_colab_link": true
    },
    "kernelspec": {
      "name": "python3",
      "display_name": "Python 3"
    },
    "language_info": {
      "name": "python"
    }
  },
  "cells": [
    {
      "cell_type": "markdown",
      "metadata": {
        "id": "view-in-github",
        "colab_type": "text"
      },
      "source": [
        "<a href=\"https://colab.research.google.com/github/gnbhub/20231_Python_Study/blob/master/week3/week3_janghun.ipynb\" target=\"_parent\"><img src=\"https://colab.research.google.com/assets/colab-badge.svg\" alt=\"Open In Colab\"/></a>"
      ]
    },
    {
      "cell_type": "code",
      "source": [
        "#1.\n",
        "while True:\n",
        "  n = int(input('숫자 입력 : '))\n",
        "  if n in range(1, 10):\n",
        "    break\n",
        "  print('1에서 9까지의 수를 다시 입력하세요')\n",
        "\n",
        "for i in range(1, 10):\n",
        "  print(f'{n} x {i} = {n*i}')"
      ],
      "metadata": {
        "colab": {
          "base_uri": "https://localhost:8080/"
        },
        "id": "LdiCRO1naI3s",
        "outputId": "e438aeeb-efe4-472f-fbe1-8c01be3cb835"
      },
      "execution_count": 4,
      "outputs": [
        {
          "output_type": "stream",
          "name": "stdout",
          "text": [
            "숫자 입력 : 7\n",
            "7 x 1 = 7\n",
            "7 x 2 = 14\n",
            "7 x 3 = 21\n",
            "7 x 4 = 28\n",
            "7 x 5 = 35\n",
            "7 x 6 = 42\n",
            "7 x 7 = 49\n",
            "7 x 8 = 56\n",
            "7 x 9 = 63\n"
          ]
        }
      ]
    },
    {
      "cell_type": "code",
      "source": [
        "#2.\n",
        "n = i = 0\n",
        "while n <= 1000:\n",
        "  i += 1\n",
        "  if i % 3 != 0 and i % 5 != 0:\n",
        "    n += i\n",
        "print(n)"
      ],
      "metadata": {
        "colab": {
          "base_uri": "https://localhost:8080/"
        },
        "id": "rDt44isnbZ9k",
        "outputId": "15e1ed7d-d8bb-4f4b-8ac0-00c21ff2f505"
      },
      "execution_count": 8,
      "outputs": [
        {
          "output_type": "stream",
          "name": "stdout",
          "text": [
            "1021\n"
          ]
        }
      ]
    },
    {
      "cell_type": "code",
      "source": [
        "#3.\n",
        "year = int(input('연도 입력 : '))\n",
        "if year % 4 == 0 and year % 100 != 0 or year % 400 == 0:\n",
        "  print(f'{year}년은 윤년입니다.')\n",
        "else:\n",
        "  print(f'{year}년은 윤년이 아닙니다.')"
      ],
      "metadata": {
        "colab": {
          "base_uri": "https://localhost:8080/"
        },
        "id": "RRMz9I_ecPfU",
        "outputId": "e2e67d9b-b27a-4998-e9e5-88e0c949fdac"
      },
      "execution_count": 11,
      "outputs": [
        {
          "output_type": "stream",
          "name": "stdout",
          "text": [
            "연도 입력 : 400\n",
            "400년은 윤년입니다.\n"
          ]
        }
      ]
    },
    {
      "cell_type": "code",
      "source": [
        "#4.\n",
        "for i in range(100, 1000):\n",
        "  if (i//100)**3+(i//10%10)**3+(i%10)**3 == i:\n",
        "    print(i)"
      ],
      "metadata": {
        "colab": {
          "base_uri": "https://localhost:8080/"
        },
        "id": "8JWMA9F7c1JJ",
        "outputId": "cede10a9-4819-448e-d471-417d84c0f460"
      },
      "execution_count": 13,
      "outputs": [
        {
          "output_type": "stream",
          "name": "stdout",
          "text": [
            "153\n",
            "370\n",
            "371\n",
            "407\n"
          ]
        }
      ]
    },
    {
      "cell_type": "code",
      "source": [
        "#5.\n",
        "p = True\n",
        "n = int(input('양의 정수 입력 : '))\n",
        "for i in range(2, int((n)**0.5)+1):\n",
        "  if n % i == 0:\n",
        "    p = False\n",
        "    break\n",
        "print(f'{n}은(는) {\"소수\" if p == True else \"합성수\"}입니다.')"
      ],
      "metadata": {
        "colab": {
          "base_uri": "https://localhost:8080/"
        },
        "id": "zqbnVtDDd2-U",
        "outputId": "d7c15ce2-2f92-46fa-e52b-47671134ddb1"
      },
      "execution_count": 33,
      "outputs": [
        {
          "output_type": "stream",
          "name": "stdout",
          "text": [
            "양의 정수 입력 : 11\n",
            "11은(는) 소수입니다.\n"
          ]
        }
      ]
    }
  ]
}
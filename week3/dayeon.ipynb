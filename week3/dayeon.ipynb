{
  "nbformat": 4,
  "nbformat_minor": 0,
  "metadata": {
    "colab": {
      "provenance": [],
      "authorship_tag": "ABX9TyPW4zJVbTH2dMVBMOqp61en",
      "include_colab_link": true
    },
    "kernelspec": {
      "name": "python3",
      "display_name": "Python 3"
    },
    "language_info": {
      "name": "python"
    }
  },
  "cells": [
    {
      "cell_type": "markdown",
      "metadata": {
        "id": "view-in-github",
        "colab_type": "text"
      },
      "source": [
        "<a href=\"https://colab.research.google.com/github/gnbhub/20231_Python_Study/blob/master/week3/dayeon.ipynb\" target=\"_parent\"><img src=\"https://colab.research.google.com/assets/colab-badge.svg\" alt=\"Open In Colab\"/></a>"
      ]
    },
    {
      "cell_type": "code",
      "execution_count": 1,
      "metadata": {
        "colab": {
          "base_uri": "https://localhost:8080/"
        },
        "id": "Wtbu4BMyx5Z2",
        "outputId": "c2a08b9a-87c8-43b6-9776-c2ab8c97b714"
      },
      "outputs": [
        {
          "output_type": "stream",
          "name": "stdout",
          "text": [
            "1에서 9사이의 숫자를 입력하세요: 4\n",
            "4 8 12 16 20 24 28 32 36 "
          ]
        }
      ],
      "source": [
        "#1-1. for문 사용\n",
        "numlist=[1, 2, 3, 4, 5, 6, 7, 8, 9]\n",
        "num = int(input(\"1에서 9사이의 숫자를 입력하세요: \"))\n",
        "if num not in numlist:\n",
        "    print(\"1에서 9까지의 수를 다시 입력하세요\")\n",
        "else:\n",
        "    for i in range(1, 10):\n",
        "        print(num*i, end=\" \")"
      ]
    },
    {
      "cell_type": "code",
      "source": [
        "#1-2. while문 사용\n",
        "i=0\n",
        "numlist=[1, 2, 3, 4, 5, 6, 7, 8, 9]\n",
        "\n",
        "num = int(input(\"1에서 9사이의 숫자를 입력하세요: \"))\n",
        "\n",
        "while i<9:\n",
        "    i+=1\n",
        "    if num not in numlist:\n",
        "        print(\"1에서 9까지의 수를 다시 입력하세요\")\n",
        "        break\n",
        "    else:\n",
        "        print(num*i, end=\" \")"
      ],
      "metadata": {
        "colab": {
          "base_uri": "https://localhost:8080/"
        },
        "id": "gz712L2IyGSW",
        "outputId": "5a8a2a0a-324c-435e-8b68-54225ce90945"
      },
      "execution_count": 2,
      "outputs": [
        {
          "output_type": "stream",
          "name": "stdout",
          "text": [
            "1에서 9사이의 숫자를 입력하세요: 12\n",
            "1에서 9까지의 수를 다시 입력하세요\n"
          ]
        }
      ]
    },
    {
      "cell_type": "code",
      "source": [
        "#2\n",
        "\n",
        "result = 0\n",
        "i=0\n",
        "while result <=1000:\n",
        "    i += 1\n",
        "    if i%3==0 or i%5==0:\n",
        "        continue\n",
        "    result = result + i\n",
        "\n",
        "\n",
        "print(result)"
      ],
      "metadata": {
        "colab": {
          "base_uri": "https://localhost:8080/"
        },
        "id": "muJs3JYm0yvk",
        "outputId": "76cbc52c-fdb3-4f39-da7d-ae5278649c58"
      },
      "execution_count": 10,
      "outputs": [
        {
          "output_type": "stream",
          "name": "stdout",
          "text": [
            "1021\n"
          ]
        }
      ]
    },
    {
      "cell_type": "code",
      "source": [
        "#3\n",
        "num = int(input(\"년도를 입력하세요: \"))\n",
        "\n",
        "if (num%4 == 0 and num%100!=0) or num%400==0:\n",
        "    print(\"%d는 윤년입니다.\" %num)\n",
        "else:\n",
        "    print(\"%d는 윤년이 아닙니다.\" %num)"
      ],
      "metadata": {
        "colab": {
          "base_uri": "https://localhost:8080/"
        },
        "id": "JTyClaAw1LlT",
        "outputId": "90942bf2-5707-4d27-859b-6eded0d8e8cf"
      },
      "execution_count": 11,
      "outputs": [
        {
          "output_type": "stream",
          "name": "stdout",
          "text": [
            "년도를 입력하세요: 1996\n",
            "1996는 윤년입니다.\n"
          ]
        }
      ]
    },
    {
      "cell_type": "code",
      "source": [
        "#4\n",
        "num=100\n",
        "\n",
        "while num<1000:\n",
        "    first = num//100\n",
        "    second = num%100//10\n",
        "    third = num%10\n",
        "    if first**3+second**3+third**3==num:\n",
        "        print(num, end= \" \")\n",
        "    num += 1"
      ],
      "metadata": {
        "colab": {
          "base_uri": "https://localhost:8080/"
        },
        "id": "iB223a6R6fbT",
        "outputId": "cf747005-a7c9-4679-828a-42df84df8bb1"
      },
      "execution_count": 13,
      "outputs": [
        {
          "output_type": "stream",
          "name": "stdout",
          "text": [
            "153 370 371 407 "
          ]
        }
      ]
    },
    {
      "cell_type": "code",
      "source": [
        "#5\n",
        "num = int(input(\"숫자를 입력하세요: \"))\n",
        "switch=0\n",
        "\n",
        "for i in range(2, num):\n",
        "    if num % i !=0 :\n",
        "        continue\n",
        "    else:\n",
        "        print(\"소수가 아닙니다.\")\n",
        "        switch = 1\n",
        "        break\n",
        "if switch == 0:\n",
        "    print(\"소수입니다.\")"
      ],
      "metadata": {
        "colab": {
          "base_uri": "https://localhost:8080/"
        },
        "id": "hUT1r2Jz92HJ",
        "outputId": "00488e02-6215-4c99-86c8-f2d06269290d"
      },
      "execution_count": 14,
      "outputs": [
        {
          "output_type": "stream",
          "name": "stdout",
          "text": [
            "숫자를 입력하세요: 56\n",
            "소수가 아닙니다.\n"
          ]
        }
      ]
    }
  ]
}